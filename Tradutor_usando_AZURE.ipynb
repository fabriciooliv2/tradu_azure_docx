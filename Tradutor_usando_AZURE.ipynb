{
  "nbformat": 4,
  "nbformat_minor": 0,
  "metadata": {
    "colab": {
      "provenance": [],
      "authorship_tag": "ABX9TyNQoYr68ACjRd7QvNKfadke",
      "include_colab_link": true
    },
    "kernelspec": {
      "name": "python3",
      "display_name": "Python 3"
    },
    "language_info": {
      "name": "python"
    }
  },
  "cells": [
    {
      "cell_type": "markdown",
      "metadata": {
        "id": "view-in-github",
        "colab_type": "text"
      },
      "source": [
        "<a href=\"https://colab.research.google.com/github/fabriciooliv2/tradu_azure_docx/blob/main/Tradutor_usando_AZURE.ipynb\" target=\"_parent\"><img src=\"https://colab.research.google.com/assets/colab-badge.svg\" alt=\"Open In Colab\"/></a>"
      ]
    },
    {
      "cell_type": "code",
      "execution_count": null,
      "metadata": {
        "colab": {
          "base_uri": "https://localhost:8080/"
        },
        "id": "7tNHOUqhK--F",
        "outputId": "8a0c91ce-15a1-489e-ac30-803ffa3e9c87"
      },
      "outputs": [
        {
          "output_type": "stream",
          "name": "stdout",
          "text": [
            "Requirement already satisfied: requests in /usr/local/lib/python3.10/dist-packages (2.32.3)\n",
            "Collecting python-docx\n",
            "  Downloading python_docx-1.1.2-py3-none-any.whl.metadata (2.0 kB)\n",
            "Requirement already satisfied: charset-normalizer<4,>=2 in /usr/local/lib/python3.10/dist-packages (from requests) (3.4.0)\n",
            "Requirement already satisfied: idna<4,>=2.5 in /usr/local/lib/python3.10/dist-packages (from requests) (3.10)\n",
            "Requirement already satisfied: urllib3<3,>=1.21.1 in /usr/local/lib/python3.10/dist-packages (from requests) (2.2.3)\n",
            "Requirement already satisfied: certifi>=2017.4.17 in /usr/local/lib/python3.10/dist-packages (from requests) (2024.8.30)\n",
            "Requirement already satisfied: lxml>=3.1.0 in /usr/local/lib/python3.10/dist-packages (from python-docx) (5.3.0)\n",
            "Requirement already satisfied: typing-extensions>=4.9.0 in /usr/local/lib/python3.10/dist-packages (from python-docx) (4.12.2)\n",
            "Downloading python_docx-1.1.2-py3-none-any.whl (244 kB)\n",
            "\u001b[2K   \u001b[90m━━━━━━━━━━━━━━━━━━━━━━━━━━━━━━━━━━━━━━━━\u001b[0m \u001b[32m244.3/244.3 kB\u001b[0m \u001b[31m3.2 MB/s\u001b[0m eta \u001b[36m0:00:00\u001b[0m\n",
            "\u001b[?25hInstalling collected packages: python-docx\n",
            "Successfully installed python-docx-1.1.2\n"
          ]
        }
      ],
      "source": [
        "!pip install requests python-docx"
      ]
    },
    {
      "cell_type": "code",
      "source": [
        "import requests\n",
        "from docx import Document\n",
        "import os\n",
        "\n",
        "subscription_key = \"EGZ17fbmnoJHdhl7lFHoZboEoWGBAPvnQFTUxNy5uDZwy9280MAMJQQJ99AKACHYHv6XJ3w3AAAbACOG6Diq\"\n",
        "endpoint = 'https://api.cognitive.microsofttranslator.com'\n",
        "location = \"eastus2\"\n",
        "language_destination = 'pt-br'\n",
        "\n",
        "def translator_text(text, target_language):\n",
        "    path = '/translate'\n",
        "    constructed_url = endpoint + path\n",
        "    headers = {\n",
        "        'Ocp-Apim-Subscription-Key': subscription_key,\n",
        "        'Ocp-Apim-Subscription-Region': location,\n",
        "        'Content-type': 'application/json',\n",
        "        'X-ClientTraceId': str(os.urandom(16))\n",
        "    }\n",
        "\n",
        "    body = [{\n",
        "        'text': text\n",
        "    }]\n",
        "    params = {\n",
        "        'api-version': '3.0',\n",
        "        'from': 'en',\n",
        "        'to': target_language\n",
        "    }\n",
        "    request = requests.post(constructed_url, params=params, headers=headers, json=body)\n",
        "    response = request.json()\n",
        "    return response[0][\"translations\"][0][\"text\"]"
      ],
      "metadata": {
        "id": "fFEzrb_EMewG"
      },
      "execution_count": null,
      "outputs": []
    },
    {
      "cell_type": "code",
      "source": [
        "translator_text(\"As He marched up that hill\", language_destination)"
      ],
      "metadata": {
        "colab": {
          "base_uri": "https://localhost:8080/",
          "height": 35
        },
        "id": "Ug85ETZ-QTcH",
        "outputId": "288ded2c-fc53-4827-a984-18f2bbd6107a"
      },
      "execution_count": null,
      "outputs": [
        {
          "output_type": "execute_result",
          "data": {
            "text/plain": [
              "'Enquanto Ele marchava até aquela colina'"
            ],
            "application/vnd.google.colaboratory.intrinsic+json": {
              "type": "string"
            }
          },
          "metadata": {},
          "execution_count": 4
        }
      ]
    },
    {
      "cell_type": "code",
      "source": [
        "def translate_document(path):\n",
        "    document = Document(path)\n",
        "    full_text = []\n",
        "    for paragraph in document.paragraphs:\n",
        "      translated_text = translator_text(paragraph.text, language_destination)\n",
        "      full_text.append(translated_text)\n",
        "\n",
        "    translated_doc = Document()\n",
        "    for line in full_text:\n",
        "      print(line)\n",
        "      translated_doc.add_paragraph(line)\n",
        "    path_translated = path.replace(\".docx\", f\"_{language_destination}.docx\")\n",
        "    translated_doc.save(path_translated)\n",
        "    return path_translated\n",
        "\n",
        "input_file = \"/content/If_I_Was_There.docx\"\n",
        "translate_document(input_file)"
      ],
      "metadata": {
        "colab": {
          "base_uri": "https://localhost:8080/",
          "height": 660
        },
        "id": "4gU0UlwZRFIm",
        "outputId": "48e43fdd-25b2-4dff-8cee-04018122253f"
      },
      "execution_count": null,
      "outputs": [
        {
          "output_type": "stream",
          "name": "stdout",
          "text": [
            "Eu fecho meus olhos e penso no Calvário\n",
            "Eu vejo isso acontecendo bem na minha frente\n",
            "As costas que carregavam o chicote, a cabeça que segurava a coroa de espinhos\n",
            "E se eu estivesse lá\n",
            "Eu me importaria, eu me importaria\n",
            "Ou eu só olharia\n",
            "E se eu estivesse lá apenas um rosto na multidão\n",
            "Eu me esconderia de vergonha ou ria alto\n",
            "Eu teria pena dele ou pensaria que ele é apenas um tolo\n",
            "Outro criminoso\n",
            "Ou apenas a verdade, ou apenas a verdade\n",
            "Ele é a joia do céu\n",
            "Enquanto Ele marchava até aquela colina\n",
            "Eu posso imaginá-lo ainda em minha mente\n",
            "Todo o sangue e o suor em Sua testa\n",
            "Enquanto Ele passava por mim, eu podia ver em Seus olhos\n",
            "Que Sua dor foi um presente de Seu amor\n",
            "Ele era o sacrifício - o Cordeiro\n",
            "E Ele é o grande que eu sou\n",
            "E Ele pagou o preço por mim\n",
            "O preço para você e eu, você e eu\n",
            "Ele fez os surdos ouvirem novamente\n",
            "Ele chamou o homem pecador de amigo\n",
            "Ele andou naquela colina para mim\n",
            "Então minha alma cega podia ver - podia ver\n",
            "Enquanto Ele marchava até aquela colina\n",
            "Eu posso imaginá-lo ainda em minha mente\n",
            "Todo o sangue e o suor em Sua testa\n",
            "Enquanto Ele passava por mim, eu podia ver em Seus olhos\n",
            "Que Sua dor foi um presente de Seu amor\n",
            "Eu fecho meus olhos e penso no Calvário\n",
            "Eu vejo isso acontecendo bem na minha frente\n",
            "Dois criminosos estavam lá - com um de cada lado Dele\n",
            "Um lançou insultos e um acreditou - e o outro acreditou\n",
            "Qual deles sou eu?\n",
            "\n"
          ]
        },
        {
          "output_type": "execute_result",
          "data": {
            "text/plain": [
              "'/content/If_I_Was_There_pt-br.docx'"
            ],
            "application/vnd.google.colaboratory.intrinsic+json": {
              "type": "string"
            }
          },
          "metadata": {},
          "execution_count": 27
        }
      ]
    }
  ]
}